{
  "nbformat": 4,
  "nbformat_minor": 0,
  "metadata": {
    "colab": {
      "provenance": [],
      "authorship_tag": "ABX9TyMKSK0uAjyxuFji6cQialho"
    },
    "kernelspec": {
      "name": "python3",
      "display_name": "Python 3"
    },
    "language_info": {
      "name": "python"
    }
  },
  "cells": [
    {
      "cell_type": "code",
      "execution_count": 1,
      "metadata": {
        "colab": {
          "base_uri": "https://localhost:8080/"
        },
        "id": "3Bc7cRhrE8zH",
        "outputId": "91a6f3a8-0939-4e9b-ef29-f985d482f959"
      },
      "outputs": [
        {
          "output_type": "stream",
          "name": "stdout",
          "text": [
            "Collecting pyspark\n",
            "  Downloading pyspark-3.5.0.tar.gz (316.9 MB)\n",
            "\u001b[2K     \u001b[90m━━━━━━━━━━━━━━━━━━━━━━━━━━━━━━━━━━━━━━━━\u001b[0m \u001b[32m316.9/316.9 MB\u001b[0m \u001b[31m2.7 MB/s\u001b[0m eta \u001b[36m0:00:00\u001b[0m\n",
            "\u001b[?25h  Preparing metadata (setup.py) ... \u001b[?25l\u001b[?25hdone\n",
            "Requirement already satisfied: py4j==0.10.9.7 in /usr/local/lib/python3.10/dist-packages (from pyspark) (0.10.9.7)\n",
            "Building wheels for collected packages: pyspark\n",
            "  Building wheel for pyspark (setup.py) ... \u001b[?25l\u001b[?25hdone\n",
            "  Created wheel for pyspark: filename=pyspark-3.5.0-py2.py3-none-any.whl size=317425345 sha256=3f6bdfa343f7a8fde7ff37f187a30702cfdc5c2edb3cff914a3b8aa5dc35b2bc\n",
            "  Stored in directory: /root/.cache/pip/wheels/41/4e/10/c2cf2467f71c678cfc8a6b9ac9241e5e44a01940da8fbb17fc\n",
            "Successfully built pyspark\n",
            "Installing collected packages: pyspark\n",
            "Successfully installed pyspark-3.5.0\n"
          ]
        }
      ],
      "source": [
        "!pip install pyspark"
      ]
    },
    {
      "cell_type": "code",
      "source": [
        "from pyspark.sql import SparkSession\n",
        "from google.colab import drive\n",
        "from pyspark.sql import functions as F"
      ],
      "metadata": {
        "id": "lvqbHN38FhFd"
      },
      "execution_count": 4,
      "outputs": []
    },
    {
      "cell_type": "code",
      "source": [
        "drive.mount('/content/gdrive')"
      ],
      "metadata": {
        "colab": {
          "base_uri": "https://localhost:8080/"
        },
        "id": "tu3tLZdJFzY0",
        "outputId": "5cf8d69c-0063-41d7-ab46-bd718618ca46"
      },
      "execution_count": 3,
      "outputs": [
        {
          "output_type": "stream",
          "name": "stdout",
          "text": [
            "Mounted at /content/gdrive\n"
          ]
        }
      ]
    },
    {
      "cell_type": "code",
      "source": [
        "class ETLJob:\n",
        "\n",
        "    def __init__(self):\n",
        "        self.spark_session = SparkSession.builder.master(\"local[*]\").getOrCreate()\n",
        "\n",
        "    def extract(self,input_path):\n",
        "\n",
        "        df=self.spark_session.read.csv(input_path,inferSchema=True,header=True)\n",
        "\n",
        "        return df\n",
        "\n",
        "\n",
        "    def transform(self,df):\n",
        "        df=df.select(['Location','Brew_Date','Volume_Produced'])\\\n",
        "        .withColumn('Brew_Month', F.date_format('Brew_Date', \"yyyy-MM\"))\\\n",
        "        .groupBy('Brew_Month')\\\n",
        "        .pivot('Location')\\\n",
        "        .sum('Volume_Produced')\\\n",
        "        .sort('Brew_Month')\n",
        "\n",
        "        return df\n",
        "\n",
        "    def load(self, df,output_path):\n",
        "        df.write.csv(output_path,header=True,mode='overwrite')\n",
        "\n",
        "    def run(self,input_path,output_path):\n",
        "        return self.load(self.transform(self.extract(input_path)),output_path)\n"
      ],
      "metadata": {
        "id": "29IIZfCGFVWz"
      },
      "execution_count": null,
      "outputs": []
    },
    {
      "cell_type": "code",
      "source": [
        "job=ETLJob()\n",
        "job.run('gdrive/My Drive/Colab Notebooks/brewery_data_complete_extended.csv',\\\n",
        "        'gdrive/My Drive/Colab Notebooks/brewery_data_output.csv')\n"
      ],
      "metadata": {
        "id": "8qMKTgkJGNyt"
      },
      "execution_count": null,
      "outputs": []
    },
    {
      "cell_type": "code",
      "source": [
        "spark_session = SparkSession.builder.master(\"local[*]\").getOrCreate()"
      ],
      "metadata": {
        "id": "0DuxQnqlKBEX"
      },
      "execution_count": null,
      "outputs": []
    },
    {
      "cell_type": "code",
      "source": [
        "df=spark_session.read.csv('gdrive/My Drive/Colab Notebooks/brewery_data_output.csv',inferSchema=True,header=True)"
      ],
      "metadata": {
        "id": "BFfvAZytJ1y6"
      },
      "execution_count": null,
      "outputs": []
    },
    {
      "cell_type": "code",
      "source": [
        "df.show()"
      ],
      "metadata": {
        "colab": {
          "base_uri": "https://localhost:8080/"
        },
        "id": "ifg5AKs8KFlt",
        "outputId": "bed76d4a-fb5d-4e9d-fe81-686df0bd859a"
      },
      "execution_count": null,
      "outputs": [
        {
          "output_type": "stream",
          "name": "stdout",
          "text": [
            "+-------------------+---------------+----------+-----------+---------+-----------+-----------+------------+-----------+----------+---------+\n",
            "|         Brew_Month|Electronic City|HSR Layout|Indiranagar|Jayanagar|Koramangala|Malleswaram|Marathahalli|Rajajinagar|Whitefield|Yelahanka|\n",
            "+-------------------+---------------+----------+-----------+---------+-----------+-----------+------------+-----------+----------+---------+\n",
            "|2020-01-01 00:00:00|       58157063|  57791779|   58476841| 59240364|   58033941|   58244295|    57765712|   58559281|  59268304| 58472454|\n",
            "|2020-02-01 00:00:00|       54036768|  53959900|   54539968| 54237101|   54791788|   54492559|    54298376|   54987598|  54299030| 55047953|\n",
            "|2020-03-01 00:00:00|       57938008|  58488866|   58617914| 58510168|   57998335|   58202733|    58370414|   58290870|  58434380| 58100744|\n",
            "|2020-04-01 00:00:00|       57240763|  56297919|   56936309| 57233419|   56560284|   56095060|    56291880|   55730412|  56683627| 56855324|\n",
            "|2020-05-01 00:00:00|       58597015|  58368536|   58236599| 58929325|   58173249|   58776081|    58714912|   57945172|  57947880| 58443165|\n",
            "|2020-06-01 00:00:00|       56571820|  56780260|   56490538| 55963583|   56264056|   56105760|    56368301|   56923395|  56059529| 55933464|\n",
            "|2020-07-01 00:00:00|       58263760|  58804026|   58551266| 58059418|   57859557|   58455399|    58482060|   58722143|  58072107| 59405696|\n",
            "|2020-08-01 00:00:00|       58105774|  57576027|   57319879| 57478437|   58516329|   58490036|    57783692|   59139351|  57751692| 57724629|\n",
            "|2020-09-01 00:00:00|       56178682|  57149664|   56690653| 56659040|   56373396|   56473383|    56832593|   56559896|  55346499| 56807484|\n",
            "|2020-10-01 00:00:00|       58097006|  57759969|   58520097| 57611011|   58191739|   58182231|    58942228|   57448087|  58871561| 57875923|\n",
            "|2020-11-01 00:00:00|       56414176|  56400515|   56318233| 55989321|   56813923|   57187241|    56942341|   56330088|  56817745| 56044299|\n",
            "|2020-12-01 00:00:00|       58528939|  58979973|   58365864| 58562574|   58240198|   58593420|    57752970|   58143476|  58797955| 58967124|\n",
            "|2021-01-01 00:00:00|       58713768|  57739986|   58120463| 58127737|   57675399|   57735358|    58530951|   58494728|  58949085| 57848316|\n",
            "|2021-02-01 00:00:00|       52431694|  52846493|   52745039| 53246001|   52457484|   52609430|    52763334|   51745266|  52958573| 52626925|\n",
            "|2021-03-01 00:00:00|       57805836|  58150689|   58859911| 58604727|   58877588|   57778856|    58193655|   58501503|  58548732| 58120181|\n",
            "|2021-04-01 00:00:00|       57281060|  56753395|   57051425| 57070229|   56268515|   57140128|    56427707|   56158575|  56399248| 55709837|\n",
            "|2021-05-01 00:00:00|       58301581|  58339703|   57802009| 58248169|   59226266|   58525651|    58298252|   58087562|  58733261| 58021142|\n",
            "|2021-06-01 00:00:00|       56162085|  56030769|   56664417| 57019678|   56544460|   56425000|    56480470|   56545596|  57039994| 56224791|\n",
            "|2021-07-01 00:00:00|       58405578|  59056624|   58812772| 58086053|   59263274|   58164916|    58487547|   58277384|  58275663| 58616898|\n",
            "|2021-08-01 00:00:00|       58081985|  56992568|   58853875| 58082145|   59232062|   58144681|    58615396|   58127212|  58407097| 58511815|\n",
            "+-------------------+---------------+----------+-----------+---------+-----------+-----------+------------+-----------+----------+---------+\n",
            "only showing top 20 rows\n",
            "\n"
          ]
        }
      ]
    },
    {
      "cell_type": "code",
      "source": [
        "class ETLJob:\n",
        "\n",
        "    def __init__(self):\n",
        "        self.spark_session = SparkSession.builder.master(\"local[*]\").getOrCreate()\n",
        "\n",
        "    def extract(self,input_path):\n",
        "\n",
        "        df=self.spark_session.read.csv(input_path,inferSchema=True,header=True)\n",
        "\n",
        "        return df\n",
        "\n",
        "\n",
        "    def transform(self,df):\n",
        "\n",
        "        df.createOrReplaceTempView('df_temp')\n",
        "\n",
        "        sql_full= \"\"\" SELECT Location, Beer_Style,\n",
        "                      round(avg(Loss_During_Brewing),3),\n",
        "                      round(avg(Loss_During_Fermentation),3),\n",
        "                      round(avg(Loss_During_Bottling_Kegging),3)\n",
        "                      FROM df_temp\n",
        "                      GROUP BY Location, Beer_Style\n",
        "                      ORDER BY Location, Beer_Style\"\"\"\n",
        "\n",
        "        return self.spark_session.sql(sql_full)\n",
        "\n",
        "\n",
        "    def load(self, df,output_path):\n",
        "        df.write.csv(output_path,header=True,mode='overwrite')\n",
        "\n",
        "    def run(self,input_path,output_path):\n",
        "        return self.load(self.transform(self.extract(input_path)),output_path)\n",
        "\n",
        "\n"
      ],
      "metadata": {
        "id": "IXN6x1p2JaFL"
      },
      "execution_count": 7,
      "outputs": []
    },
    {
      "cell_type": "code",
      "source": [
        "job=ETLJob()\n",
        "job.run('gdrive/My Drive/Colab Notebooks/brewery_data_complete_extended.csv',\\\n",
        "        'gdrive/My Drive/Colab Notebooks/brewery_data_output.csv')\n"
      ],
      "metadata": {
        "id": "thSNsaiQmwsm"
      },
      "execution_count": 8,
      "outputs": []
    },
    {
      "cell_type": "code",
      "source": [
        "spark_session = SparkSession.builder.master(\"local[*]\").getOrCreate()"
      ],
      "metadata": {
        "id": "j5oXW18m3kzH"
      },
      "execution_count": 9,
      "outputs": []
    },
    {
      "cell_type": "code",
      "source": [
        "df=spark_session.read.csv('gdrive/My Drive/Colab Notebooks/brewery_data_output.csv',inferSchema=True,header=True)"
      ],
      "metadata": {
        "id": "57ulnI6T3nzn"
      },
      "execution_count": 10,
      "outputs": []
    },
    {
      "cell_type": "code",
      "source": [
        "df.show()"
      ],
      "metadata": {
        "colab": {
          "base_uri": "https://localhost:8080/"
        },
        "id": "A0Ii3GbM3pRP",
        "outputId": "11d43082-1c76-424d-b1c3-394dda681b37"
      },
      "execution_count": 11,
      "outputs": [
        {
          "output_type": "stream",
          "name": "stdout",
          "text": [
            "+---------------+----------+----------------------------------+---------------------------------------+-------------------------------------------+\n",
            "|       Location|Beer_Style|round(avg(Loss_During_Brewing), 3)|round(avg(Loss_During_Fermentation), 3)|round(avg(Loss_During_Bottling_Kegging), 3)|\n",
            "+---------------+----------+----------------------------------+---------------------------------------+-------------------------------------------+\n",
            "|Electronic City|       Ale|                             3.005|                                    3.0|                                      2.996|\n",
            "|Electronic City|       IPA|                             3.003|                                  2.997|                                      3.003|\n",
            "|Electronic City|     Lager|                             3.006|                                  3.004|                                      2.999|\n",
            "|Electronic City|   Pilsner|                             3.003|                                  2.997|                                      3.003|\n",
            "|Electronic City|    Porter|                               3.0|                                  2.992|                                      2.994|\n",
            "|Electronic City|      Sour|                               3.0|                                    3.0|                                      3.005|\n",
            "|Electronic City|     Stout|                             2.998|                                  2.998|                                      2.999|\n",
            "|Electronic City|Wheat Beer|                             3.002|                                  2.994|                                      2.997|\n",
            "|     HSR Layout|       Ale|                             2.999|                                  2.998|                                      3.004|\n",
            "|     HSR Layout|       IPA|                             2.993|                                  3.002|                                      2.993|\n",
            "|     HSR Layout|     Lager|                             2.999|                                  3.002|                                      2.996|\n",
            "|     HSR Layout|   Pilsner|                             2.997|                                  2.997|                                        3.0|\n",
            "|     HSR Layout|    Porter|                             2.997|                                  3.001|                                      3.003|\n",
            "|     HSR Layout|      Sour|                             2.999|                                  3.001|                                      3.003|\n",
            "|     HSR Layout|     Stout|                             2.998|                                  2.995|                                      2.994|\n",
            "|     HSR Layout|Wheat Beer|                             3.006|                                  3.002|                                      3.001|\n",
            "|    Indiranagar|       Ale|                             3.001|                                  3.003|                                      2.997|\n",
            "|    Indiranagar|       IPA|                               3.0|                                  2.995|                                      3.006|\n",
            "|    Indiranagar|     Lager|                             2.998|                                  3.006|                                      3.001|\n",
            "|    Indiranagar|   Pilsner|                             3.001|                                    3.0|                                      2.999|\n",
            "+---------------+----------+----------------------------------+---------------------------------------+-------------------------------------------+\n",
            "only showing top 20 rows\n",
            "\n"
          ]
        }
      ]
    }
  ]
}