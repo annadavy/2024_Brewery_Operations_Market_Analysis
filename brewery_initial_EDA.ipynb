{
  "nbformat": 4,
  "nbformat_minor": 0,
  "metadata": {
    "colab": {
      "provenance": [],
      "authorship_tag": "ABX9TyPeDdOse+ghwRYy/VKjqnIs"
    },
    "kernelspec": {
      "name": "python3",
      "display_name": "Python 3"
    },
    "language_info": {
      "name": "python"
    }
  },
  "cells": [
    {
      "cell_type": "code",
      "execution_count": 1,
      "metadata": {
        "colab": {
          "base_uri": "https://localhost:8080/"
        },
        "id": "uDwcjMZpOkFF",
        "outputId": "61d6b869-984b-47a6-8fc4-fc87ecc88bf2"
      },
      "outputs": [
        {
          "output_type": "stream",
          "name": "stdout",
          "text": [
            "Collecting pyspark\n",
            "  Downloading pyspark-3.5.0.tar.gz (316.9 MB)\n",
            "\u001b[2K     \u001b[90m━━━━━━━━━━━━━━━━━━━━━━━━━━━━━━━━━━━━━━━━\u001b[0m \u001b[32m316.9/316.9 MB\u001b[0m \u001b[31m2.8 MB/s\u001b[0m eta \u001b[36m0:00:00\u001b[0m\n",
            "\u001b[?25h  Preparing metadata (setup.py) ... \u001b[?25l\u001b[?25hdone\n",
            "Requirement already satisfied: py4j==0.10.9.7 in /usr/local/lib/python3.10/dist-packages (from pyspark) (0.10.9.7)\n",
            "Building wheels for collected packages: pyspark\n",
            "  Building wheel for pyspark (setup.py) ... \u001b[?25l\u001b[?25hdone\n",
            "  Created wheel for pyspark: filename=pyspark-3.5.0-py2.py3-none-any.whl size=317425345 sha256=dedf0049bb81109bd890688691feb3288ea9765589d81796237d955123b93642\n",
            "  Stored in directory: /root/.cache/pip/wheels/41/4e/10/c2cf2467f71c678cfc8a6b9ac9241e5e44a01940da8fbb17fc\n",
            "Successfully built pyspark\n",
            "Installing collected packages: pyspark\n",
            "Successfully installed pyspark-3.5.0\n"
          ]
        }
      ],
      "source": [
        "!pip install pyspark"
      ]
    },
    {
      "cell_type": "code",
      "source": [
        "from pyspark.sql import SparkSession\n",
        "import os\n",
        "from google.colab import drive\n",
        "from pyspark.sql import functions as F\n",
        "#from pyspark.sql.functions import explode, col, concat, lit,size, desc, asc, asc_nulls_last, substring,udf,year"
      ],
      "metadata": {
        "id": "p9g6oF79PEK4"
      },
      "execution_count": 2,
      "outputs": []
    },
    {
      "cell_type": "code",
      "source": [
        "from pyspark.sql import SparkSession\n",
        "spark = SparkSession.builder.master(\"local[*]\").getOrCreate()"
      ],
      "metadata": {
        "id": "SQ19TJLaO2Os"
      },
      "execution_count": 3,
      "outputs": []
    },
    {
      "cell_type": "code",
      "source": [
        "drive.mount('/content/gdrive')"
      ],
      "metadata": {
        "colab": {
          "base_uri": "https://localhost:8080/"
        },
        "id": "4vJSIrwzQ42J",
        "outputId": "fc1eda0d-566a-4416-9622-7288de2a727e"
      },
      "execution_count": 4,
      "outputs": [
        {
          "output_type": "stream",
          "name": "stdout",
          "text": [
            "Mounted at /content/gdrive\n"
          ]
        }
      ]
    },
    {
      "cell_type": "code",
      "source": [
        "df=spark.read.csv('gdrive/My Drive/Colab Notebooks/brewery_data_complete_extended.csv',inferSchema=True,header=True)"
      ],
      "metadata": {
        "id": "Kqi-St8WPAIA"
      },
      "execution_count": 5,
      "outputs": []
    },
    {
      "cell_type": "code",
      "source": [
        "df.show(n=1, truncate=False, vertical=True)"
      ],
      "metadata": {
        "colab": {
          "base_uri": "https://localhost:8080/"
        },
        "id": "yGAmVrHm_ZRh",
        "outputId": "eee40d5f-7b12-489c-886f-8d8cc4c6c933"
      },
      "execution_count": null,
      "outputs": [
        {
          "output_type": "stream",
          "name": "stdout",
          "text": [
            "-RECORD 0-------------------------------------------\n",
            " Batch_ID                     | 7870796             \n",
            " Brew_Date                    | 2020-01-01 00:00:19 \n",
            " Beer_Style                   | Wheat Beer          \n",
            " SKU                          | Kegs                \n",
            " Location                     | Whitefield          \n",
            " Fermentation_Time            | 16                  \n",
            " Temperature                  | 24.204250857069873  \n",
            " pH_Level                     | 5.2898454476095615  \n",
            " Gravity                      | 1.0395041267301979  \n",
            " Alcohol_Content              | 5.370842159553436   \n",
            " Bitterness                   | 20                  \n",
            " Color                        | 5                   \n",
            " Ingredient_Ratio             | 1:0.32:0.16         \n",
            " Volume_Produced              | 4666                \n",
            " Total_Sales                  | 2664.7593448382822  \n",
            " Quality_Score                | 8.57701633109399    \n",
            " Brewhouse_Efficiency         | 89.19588216376087   \n",
            " Loss_During_Brewing          | 4.1049876591878345  \n",
            " Loss_During_Fermentation     | 3.2354851724654683  \n",
            " Loss_During_Bottling_Kegging | 4.663204448186049   \n",
            "only showing top 1 row\n",
            "\n"
          ]
        }
      ]
    },
    {
      "cell_type": "code",
      "source": [
        "df.printSchema()"
      ],
      "metadata": {
        "colab": {
          "base_uri": "https://localhost:8080/"
        },
        "id": "Mb0-iIhOTzyG",
        "outputId": "3fe0e2a3-4c38-44fd-a77a-7e0c0a416fd2"
      },
      "execution_count": null,
      "outputs": [
        {
          "output_type": "stream",
          "name": "stdout",
          "text": [
            "root\n",
            " |-- Batch_ID: integer (nullable = true)\n",
            " |-- Brew_Date: timestamp (nullable = true)\n",
            " |-- Beer_Style: string (nullable = true)\n",
            " |-- SKU: string (nullable = true)\n",
            " |-- Location: string (nullable = true)\n",
            " |-- Fermentation_Time: integer (nullable = true)\n",
            " |-- Temperature: double (nullable = true)\n",
            " |-- pH_Level: double (nullable = true)\n",
            " |-- Gravity: double (nullable = true)\n",
            " |-- Alcohol_Content: double (nullable = true)\n",
            " |-- Bitterness: integer (nullable = true)\n",
            " |-- Color: integer (nullable = true)\n",
            " |-- Ingredient_Ratio: string (nullable = true)\n",
            " |-- Volume_Produced: integer (nullable = true)\n",
            " |-- Total_Sales: double (nullable = true)\n",
            " |-- Quality_Score: double (nullable = true)\n",
            " |-- Brewhouse_Efficiency: double (nullable = true)\n",
            " |-- Loss_During_Brewing: double (nullable = true)\n",
            " |-- Loss_During_Fermentation: double (nullable = true)\n",
            " |-- Loss_During_Bottling_Kegging: double (nullable = true)\n",
            "\n"
          ]
        }
      ]
    },
    {
      "cell_type": "code",
      "source": [
        "df_desc=df.describe(df.columns)"
      ],
      "metadata": {
        "id": "avwMyQUxFWo6"
      },
      "execution_count": null,
      "outputs": []
    },
    {
      "cell_type": "code",
      "source": [
        "df_pd=df_desc.toPandas()"
      ],
      "metadata": {
        "id": "yXFm7QiJHMTd"
      },
      "execution_count": null,
      "outputs": []
    },
    {
      "cell_type": "code",
      "source": [
        "df_pd=df_pd.T"
      ],
      "metadata": {
        "id": "dColHOfpRTfR"
      },
      "execution_count": null,
      "outputs": []
    },
    {
      "cell_type": "code",
      "source": [
        "df_pd.columns = df_pd.iloc[0]"
      ],
      "metadata": {
        "id": "7GgaN7MwQJ5m"
      },
      "execution_count": null,
      "outputs": []
    },
    {
      "cell_type": "code",
      "source": [
        "df_pd.iloc[5:,:]"
      ],
      "metadata": {
        "colab": {
          "base_uri": "https://localhost:8080/",
          "height": 462
        },
        "id": "Rz1RLL5_ROMF",
        "outputId": "601c780c-feba-4cbe-9fe1-fa6c995ce50c"
      },
      "execution_count": null,
      "outputs": [
        {
          "output_type": "execute_result",
          "data": {
            "text/plain": [
              "summary                          count                mean  \\\n",
              "Fermentation_Time             10000000           14.500898   \n",
              "Temperature                   10000000  19.999898511018827   \n",
              "pH_Level                      10000000   4.999940543893489   \n",
              "Gravity                       10000000  1.0550028700788692   \n",
              "Alcohol_Content               10000000   5.249709006579308   \n",
              "Bitterness                    10000000          39.4961996   \n",
              "Color                         10000000          11.9993459   \n",
              "Ingredient_Ratio              10000000                None   \n",
              "Volume_Produced               10000000        2749.0309594   \n",
              "Total_Sales                   10000000  10497.785343940232   \n",
              "Quality_Score                 10000000   7.999825148192516   \n",
              "Brewhouse_Efficiency          10000000   80.00091934182497   \n",
              "Loss_During_Brewing           10000000   3.000081497042524   \n",
              "Loss_During_Fermentation      10000000   3.000002413212497   \n",
              "Loss_During_Bottling_Kegging  10000000  3.0001587106749747   \n",
              "\n",
              "summary                                     stddev                 min  \\\n",
              "Fermentation_Time                2.872006096518228                  10   \n",
              "Temperature                     2.8870297120328576  15.000001163771435   \n",
              "pH_Level                       0.28863762894103545   4.500000005935603   \n",
              "Gravity                       0.014434649211836703  1.0300000027891478   \n",
              "Alcohol_Content                0.43296144791729213   4.500000235642255   \n",
              "Bitterness                      11.545572488490313                  20   \n",
              "Color                            4.321170228005893                   5   \n",
              "Ingredient_Ratio                              None         1:0.20:0.10   \n",
              "Volume_Produced                  1299.078133259011                 500   \n",
              "Total_Sales                      5485.995544804044  1000.0009630942443   \n",
              "Quality_Score                   1.1546793056214646   6.000000644037316   \n",
              "Brewhouse_Efficiency            5.7749295785811645   70.00000702282782   \n",
              "Loss_During_Brewing             1.1547483756083143   1.000000399567285   \n",
              "Loss_During_Fermentation        1.1548266863212513  1.0000008690556794   \n",
              "Loss_During_Bottling_Kegging    1.1547186092997934  1.0000002095815321   \n",
              "\n",
              "summary                                      max  \n",
              "Fermentation_Time                             19  \n",
              "Temperature                   24.999998289887966  \n",
              "pH_Level                       5.499999818305633  \n",
              "Gravity                       1.0799999980323736  \n",
              "Alcohol_Content                5.999999932506248  \n",
              "Bitterness                                    59  \n",
              "Color                                         19  \n",
              "Ingredient_Ratio                     1:0.50:0.30  \n",
              "Volume_Produced                             4999  \n",
              "Total_Sales                    19999.99964105241  \n",
              "Quality_Score                  9.999998860537378  \n",
              "Brewhouse_Efficiency           89.99999982126904  \n",
              "Loss_During_Brewing            4.999999841589812  \n",
              "Loss_During_Fermentation       4.999999816405875  \n",
              "Loss_During_Bottling_Kegging   4.999999721589095  "
            ],
            "text/html": [
              "\n",
              "  <div id=\"df-4650581f-a235-4def-96c3-b0a63701289e\" class=\"colab-df-container\">\n",
              "    <div>\n",
              "<style scoped>\n",
              "    .dataframe tbody tr th:only-of-type {\n",
              "        vertical-align: middle;\n",
              "    }\n",
              "\n",
              "    .dataframe tbody tr th {\n",
              "        vertical-align: top;\n",
              "    }\n",
              "\n",
              "    .dataframe thead th {\n",
              "        text-align: right;\n",
              "    }\n",
              "</style>\n",
              "<table border=\"1\" class=\"dataframe\">\n",
              "  <thead>\n",
              "    <tr style=\"text-align: right;\">\n",
              "      <th>summary</th>\n",
              "      <th>count</th>\n",
              "      <th>mean</th>\n",
              "      <th>stddev</th>\n",
              "      <th>min</th>\n",
              "      <th>max</th>\n",
              "    </tr>\n",
              "  </thead>\n",
              "  <tbody>\n",
              "    <tr>\n",
              "      <th>Fermentation_Time</th>\n",
              "      <td>10000000</td>\n",
              "      <td>14.500898</td>\n",
              "      <td>2.872006096518228</td>\n",
              "      <td>10</td>\n",
              "      <td>19</td>\n",
              "    </tr>\n",
              "    <tr>\n",
              "      <th>Temperature</th>\n",
              "      <td>10000000</td>\n",
              "      <td>19.999898511018827</td>\n",
              "      <td>2.8870297120328576</td>\n",
              "      <td>15.000001163771435</td>\n",
              "      <td>24.999998289887966</td>\n",
              "    </tr>\n",
              "    <tr>\n",
              "      <th>pH_Level</th>\n",
              "      <td>10000000</td>\n",
              "      <td>4.999940543893489</td>\n",
              "      <td>0.28863762894103545</td>\n",
              "      <td>4.500000005935603</td>\n",
              "      <td>5.499999818305633</td>\n",
              "    </tr>\n",
              "    <tr>\n",
              "      <th>Gravity</th>\n",
              "      <td>10000000</td>\n",
              "      <td>1.0550028700788692</td>\n",
              "      <td>0.014434649211836703</td>\n",
              "      <td>1.0300000027891478</td>\n",
              "      <td>1.0799999980323736</td>\n",
              "    </tr>\n",
              "    <tr>\n",
              "      <th>Alcohol_Content</th>\n",
              "      <td>10000000</td>\n",
              "      <td>5.249709006579308</td>\n",
              "      <td>0.43296144791729213</td>\n",
              "      <td>4.500000235642255</td>\n",
              "      <td>5.999999932506248</td>\n",
              "    </tr>\n",
              "    <tr>\n",
              "      <th>Bitterness</th>\n",
              "      <td>10000000</td>\n",
              "      <td>39.4961996</td>\n",
              "      <td>11.545572488490313</td>\n",
              "      <td>20</td>\n",
              "      <td>59</td>\n",
              "    </tr>\n",
              "    <tr>\n",
              "      <th>Color</th>\n",
              "      <td>10000000</td>\n",
              "      <td>11.9993459</td>\n",
              "      <td>4.321170228005893</td>\n",
              "      <td>5</td>\n",
              "      <td>19</td>\n",
              "    </tr>\n",
              "    <tr>\n",
              "      <th>Ingredient_Ratio</th>\n",
              "      <td>10000000</td>\n",
              "      <td>None</td>\n",
              "      <td>None</td>\n",
              "      <td>1:0.20:0.10</td>\n",
              "      <td>1:0.50:0.30</td>\n",
              "    </tr>\n",
              "    <tr>\n",
              "      <th>Volume_Produced</th>\n",
              "      <td>10000000</td>\n",
              "      <td>2749.0309594</td>\n",
              "      <td>1299.078133259011</td>\n",
              "      <td>500</td>\n",
              "      <td>4999</td>\n",
              "    </tr>\n",
              "    <tr>\n",
              "      <th>Total_Sales</th>\n",
              "      <td>10000000</td>\n",
              "      <td>10497.785343940232</td>\n",
              "      <td>5485.995544804044</td>\n",
              "      <td>1000.0009630942443</td>\n",
              "      <td>19999.99964105241</td>\n",
              "    </tr>\n",
              "    <tr>\n",
              "      <th>Quality_Score</th>\n",
              "      <td>10000000</td>\n",
              "      <td>7.999825148192516</td>\n",
              "      <td>1.1546793056214646</td>\n",
              "      <td>6.000000644037316</td>\n",
              "      <td>9.999998860537378</td>\n",
              "    </tr>\n",
              "    <tr>\n",
              "      <th>Brewhouse_Efficiency</th>\n",
              "      <td>10000000</td>\n",
              "      <td>80.00091934182497</td>\n",
              "      <td>5.7749295785811645</td>\n",
              "      <td>70.00000702282782</td>\n",
              "      <td>89.99999982126904</td>\n",
              "    </tr>\n",
              "    <tr>\n",
              "      <th>Loss_During_Brewing</th>\n",
              "      <td>10000000</td>\n",
              "      <td>3.000081497042524</td>\n",
              "      <td>1.1547483756083143</td>\n",
              "      <td>1.000000399567285</td>\n",
              "      <td>4.999999841589812</td>\n",
              "    </tr>\n",
              "    <tr>\n",
              "      <th>Loss_During_Fermentation</th>\n",
              "      <td>10000000</td>\n",
              "      <td>3.000002413212497</td>\n",
              "      <td>1.1548266863212513</td>\n",
              "      <td>1.0000008690556794</td>\n",
              "      <td>4.999999816405875</td>\n",
              "    </tr>\n",
              "    <tr>\n",
              "      <th>Loss_During_Bottling_Kegging</th>\n",
              "      <td>10000000</td>\n",
              "      <td>3.0001587106749747</td>\n",
              "      <td>1.1547186092997934</td>\n",
              "      <td>1.0000002095815321</td>\n",
              "      <td>4.999999721589095</td>\n",
              "    </tr>\n",
              "  </tbody>\n",
              "</table>\n",
              "</div>\n",
              "    <div class=\"colab-df-buttons\">\n",
              "\n",
              "  <div class=\"colab-df-container\">\n",
              "    <button class=\"colab-df-convert\" onclick=\"convertToInteractive('df-4650581f-a235-4def-96c3-b0a63701289e')\"\n",
              "            title=\"Convert this dataframe to an interactive table.\"\n",
              "            style=\"display:none;\">\n",
              "\n",
              "  <svg xmlns=\"http://www.w3.org/2000/svg\" height=\"24px\" viewBox=\"0 -960 960 960\">\n",
              "    <path d=\"M120-120v-720h720v720H120Zm60-500h600v-160H180v160Zm220 220h160v-160H400v160Zm0 220h160v-160H400v160ZM180-400h160v-160H180v160Zm440 0h160v-160H620v160ZM180-180h160v-160H180v160Zm440 0h160v-160H620v160Z\"/>\n",
              "  </svg>\n",
              "    </button>\n",
              "\n",
              "  <style>\n",
              "    .colab-df-container {\n",
              "      display:flex;\n",
              "      gap: 12px;\n",
              "    }\n",
              "\n",
              "    .colab-df-convert {\n",
              "      background-color: #E8F0FE;\n",
              "      border: none;\n",
              "      border-radius: 50%;\n",
              "      cursor: pointer;\n",
              "      display: none;\n",
              "      fill: #1967D2;\n",
              "      height: 32px;\n",
              "      padding: 0 0 0 0;\n",
              "      width: 32px;\n",
              "    }\n",
              "\n",
              "    .colab-df-convert:hover {\n",
              "      background-color: #E2EBFA;\n",
              "      box-shadow: 0px 1px 2px rgba(60, 64, 67, 0.3), 0px 1px 3px 1px rgba(60, 64, 67, 0.15);\n",
              "      fill: #174EA6;\n",
              "    }\n",
              "\n",
              "    .colab-df-buttons div {\n",
              "      margin-bottom: 4px;\n",
              "    }\n",
              "\n",
              "    [theme=dark] .colab-df-convert {\n",
              "      background-color: #3B4455;\n",
              "      fill: #D2E3FC;\n",
              "    }\n",
              "\n",
              "    [theme=dark] .colab-df-convert:hover {\n",
              "      background-color: #434B5C;\n",
              "      box-shadow: 0px 1px 3px 1px rgba(0, 0, 0, 0.15);\n",
              "      filter: drop-shadow(0px 1px 2px rgba(0, 0, 0, 0.3));\n",
              "      fill: #FFFFFF;\n",
              "    }\n",
              "  </style>\n",
              "\n",
              "    <script>\n",
              "      const buttonEl =\n",
              "        document.querySelector('#df-4650581f-a235-4def-96c3-b0a63701289e button.colab-df-convert');\n",
              "      buttonEl.style.display =\n",
              "        google.colab.kernel.accessAllowed ? 'block' : 'none';\n",
              "\n",
              "      async function convertToInteractive(key) {\n",
              "        const element = document.querySelector('#df-4650581f-a235-4def-96c3-b0a63701289e');\n",
              "        const dataTable =\n",
              "          await google.colab.kernel.invokeFunction('convertToInteractive',\n",
              "                                                    [key], {});\n",
              "        if (!dataTable) return;\n",
              "\n",
              "        const docLinkHtml = 'Like what you see? Visit the ' +\n",
              "          '<a target=\"_blank\" href=https://colab.research.google.com/notebooks/data_table.ipynb>data table notebook</a>'\n",
              "          + ' to learn more about interactive tables.';\n",
              "        element.innerHTML = '';\n",
              "        dataTable['output_type'] = 'display_data';\n",
              "        await google.colab.output.renderOutput(dataTable, element);\n",
              "        const docLink = document.createElement('div');\n",
              "        docLink.innerHTML = docLinkHtml;\n",
              "        element.appendChild(docLink);\n",
              "      }\n",
              "    </script>\n",
              "  </div>\n",
              "\n",
              "\n",
              "<div id=\"df-f6c93512-7915-45ae-8092-c8e713a6fb05\">\n",
              "  <button class=\"colab-df-quickchart\" onclick=\"quickchart('df-f6c93512-7915-45ae-8092-c8e713a6fb05')\"\n",
              "            title=\"Suggest charts\"\n",
              "            style=\"display:none;\">\n",
              "\n",
              "<svg xmlns=\"http://www.w3.org/2000/svg\" height=\"24px\"viewBox=\"0 0 24 24\"\n",
              "     width=\"24px\">\n",
              "    <g>\n",
              "        <path d=\"M19 3H5c-1.1 0-2 .9-2 2v14c0 1.1.9 2 2 2h14c1.1 0 2-.9 2-2V5c0-1.1-.9-2-2-2zM9 17H7v-7h2v7zm4 0h-2V7h2v10zm4 0h-2v-4h2v4z\"/>\n",
              "    </g>\n",
              "</svg>\n",
              "  </button>\n",
              "\n",
              "<style>\n",
              "  .colab-df-quickchart {\n",
              "      --bg-color: #E8F0FE;\n",
              "      --fill-color: #1967D2;\n",
              "      --hover-bg-color: #E2EBFA;\n",
              "      --hover-fill-color: #174EA6;\n",
              "      --disabled-fill-color: #AAA;\n",
              "      --disabled-bg-color: #DDD;\n",
              "  }\n",
              "\n",
              "  [theme=dark] .colab-df-quickchart {\n",
              "      --bg-color: #3B4455;\n",
              "      --fill-color: #D2E3FC;\n",
              "      --hover-bg-color: #434B5C;\n",
              "      --hover-fill-color: #FFFFFF;\n",
              "      --disabled-bg-color: #3B4455;\n",
              "      --disabled-fill-color: #666;\n",
              "  }\n",
              "\n",
              "  .colab-df-quickchart {\n",
              "    background-color: var(--bg-color);\n",
              "    border: none;\n",
              "    border-radius: 50%;\n",
              "    cursor: pointer;\n",
              "    display: none;\n",
              "    fill: var(--fill-color);\n",
              "    height: 32px;\n",
              "    padding: 0;\n",
              "    width: 32px;\n",
              "  }\n",
              "\n",
              "  .colab-df-quickchart:hover {\n",
              "    background-color: var(--hover-bg-color);\n",
              "    box-shadow: 0 1px 2px rgba(60, 64, 67, 0.3), 0 1px 3px 1px rgba(60, 64, 67, 0.15);\n",
              "    fill: var(--button-hover-fill-color);\n",
              "  }\n",
              "\n",
              "  .colab-df-quickchart-complete:disabled,\n",
              "  .colab-df-quickchart-complete:disabled:hover {\n",
              "    background-color: var(--disabled-bg-color);\n",
              "    fill: var(--disabled-fill-color);\n",
              "    box-shadow: none;\n",
              "  }\n",
              "\n",
              "  .colab-df-spinner {\n",
              "    border: 2px solid var(--fill-color);\n",
              "    border-color: transparent;\n",
              "    border-bottom-color: var(--fill-color);\n",
              "    animation:\n",
              "      spin 1s steps(1) infinite;\n",
              "  }\n",
              "\n",
              "  @keyframes spin {\n",
              "    0% {\n",
              "      border-color: transparent;\n",
              "      border-bottom-color: var(--fill-color);\n",
              "      border-left-color: var(--fill-color);\n",
              "    }\n",
              "    20% {\n",
              "      border-color: transparent;\n",
              "      border-left-color: var(--fill-color);\n",
              "      border-top-color: var(--fill-color);\n",
              "    }\n",
              "    30% {\n",
              "      border-color: transparent;\n",
              "      border-left-color: var(--fill-color);\n",
              "      border-top-color: var(--fill-color);\n",
              "      border-right-color: var(--fill-color);\n",
              "    }\n",
              "    40% {\n",
              "      border-color: transparent;\n",
              "      border-right-color: var(--fill-color);\n",
              "      border-top-color: var(--fill-color);\n",
              "    }\n",
              "    60% {\n",
              "      border-color: transparent;\n",
              "      border-right-color: var(--fill-color);\n",
              "    }\n",
              "    80% {\n",
              "      border-color: transparent;\n",
              "      border-right-color: var(--fill-color);\n",
              "      border-bottom-color: var(--fill-color);\n",
              "    }\n",
              "    90% {\n",
              "      border-color: transparent;\n",
              "      border-bottom-color: var(--fill-color);\n",
              "    }\n",
              "  }\n",
              "</style>\n",
              "\n",
              "  <script>\n",
              "    async function quickchart(key) {\n",
              "      const quickchartButtonEl =\n",
              "        document.querySelector('#' + key + ' button');\n",
              "      quickchartButtonEl.disabled = true;  // To prevent multiple clicks.\n",
              "      quickchartButtonEl.classList.add('colab-df-spinner');\n",
              "      try {\n",
              "        const charts = await google.colab.kernel.invokeFunction(\n",
              "            'suggestCharts', [key], {});\n",
              "      } catch (error) {\n",
              "        console.error('Error during call to suggestCharts:', error);\n",
              "      }\n",
              "      quickchartButtonEl.classList.remove('colab-df-spinner');\n",
              "      quickchartButtonEl.classList.add('colab-df-quickchart-complete');\n",
              "    }\n",
              "    (() => {\n",
              "      let quickchartButtonEl =\n",
              "        document.querySelector('#df-f6c93512-7915-45ae-8092-c8e713a6fb05 button');\n",
              "      quickchartButtonEl.style.display =\n",
              "        google.colab.kernel.accessAllowed ? 'block' : 'none';\n",
              "    })();\n",
              "  </script>\n",
              "</div>\n",
              "    </div>\n",
              "  </div>\n"
            ]
          },
          "metadata": {},
          "execution_count": 31
        }
      ]
    },
    {
      "cell_type": "code",
      "source": [
        "df.groupBy('Beer_Style')\\\n",
        ".sum(\"Volume_Produced\")\\\n",
        ".withColumnRenamed(\"sum(Volume_Produced)\", \"Volume_Produced_Sum\")\\\n",
        ".sort(\"Beer_Style\").show()"
      ],
      "metadata": {
        "colab": {
          "base_uri": "https://localhost:8080/"
        },
        "id": "h3QTe_cmjSOh",
        "outputId": "efeed2eb-0346-4f39-f3fe-23af4be3a2c1"
      },
      "execution_count": null,
      "outputs": [
        {
          "output_type": "stream",
          "name": "stdout",
          "text": [
            "+----------+-------------------+\n",
            "|Beer_Style|Volume_Produced_Sum|\n",
            "+----------+-------------------+\n",
            "|       Ale|         3438491666|\n",
            "|       IPA|         3437465053|\n",
            "|     Lager|         3437866881|\n",
            "|   Pilsner|         3435554213|\n",
            "|    Porter|         3437816327|\n",
            "|      Sour|         3432995872|\n",
            "|     Stout|         3436714200|\n",
            "|Wheat Beer|         3433405382|\n",
            "+----------+-------------------+\n",
            "\n"
          ]
        }
      ]
    },
    {
      "cell_type": "code",
      "source": [
        "df.groupBy('SKU')\\\n",
        ".sum(\"Volume_Produced\")\\\n",
        ".withColumnRenamed(\"sum(Volume_Produced)\", \"Volume_Produced_Sum\")\\\n",
        ".sort(\"SKU\").show()"
      ],
      "metadata": {
        "colab": {
          "base_uri": "https://localhost:8080/"
        },
        "id": "YyHu4f-3kgE1",
        "outputId": "e3352767-2a5c-49f0-f9c1-0d1c782348b2"
      },
      "execution_count": null,
      "outputs": [
        {
          "output_type": "stream",
          "name": "stdout",
          "text": [
            "+-------+-------------------+\n",
            "|    SKU|Volume_Produced_Sum|\n",
            "+-------+-------------------+\n",
            "|Bottles|         6876364027|\n",
            "|   Cans|         6870005491|\n",
            "|   Kegs|         6870118905|\n",
            "|  Pints|         6873821171|\n",
            "+-------+-------------------+\n",
            "\n"
          ]
        }
      ]
    },
    {
      "cell_type": "code",
      "source": [
        "df.groupBy('Location')\\\n",
        ".sum(\"Volume_Produced\")\\\n",
        ".withColumnRenamed(\"sum(Volume_Produced)\", \"Volume_Produced_Sum\")\\\n",
        ".sort(\"Location\").show()"
      ],
      "metadata": {
        "colab": {
          "base_uri": "https://localhost:8080/"
        },
        "id": "gI-meNXEl_fS",
        "outputId": "4bd020c2-ee1e-484d-dcc7-2cda14b95a25"
      },
      "execution_count": null,
      "outputs": [
        {
          "output_type": "stream",
          "name": "stdout",
          "text": [
            "+---------------+-------------------+\n",
            "|       Location|Volume_Produced_Sum|\n",
            "+---------------+-------------------+\n",
            "|Electronic City|         2744848424|\n",
            "|     HSR Layout|         2750592166|\n",
            "|    Indiranagar|         2749066239|\n",
            "|      Jayanagar|         2750760812|\n",
            "|    Koramangala|         2749833908|\n",
            "|    Malleswaram|         2747512261|\n",
            "|   Marathahalli|         2748916542|\n",
            "|    Rajajinagar|         2749725468|\n",
            "|     Whitefield|         2748458725|\n",
            "|      Yelahanka|         2750595049|\n",
            "+---------------+-------------------+\n",
            "\n"
          ]
        }
      ]
    },
    {
      "cell_type": "code",
      "source": [
        "df.select(['Location','Brew_Date','Volume_Produced'])\\\n",
        ".withColumn('Brew_Month', F.date_format('Brew_Date', \"yyyy-MM\")).show()"
      ],
      "metadata": {
        "colab": {
          "base_uri": "https://localhost:8080/"
        },
        "id": "gUQoZRRUwYEp",
        "outputId": "bbcd2d50-c5d9-4c11-d0d7-50e77fc0f73e"
      },
      "execution_count": null,
      "outputs": [
        {
          "output_type": "stream",
          "name": "stdout",
          "text": [
            "+---------------+-------------------+---------------+----------+\n",
            "|       Location|          Brew_Date|Volume_Produced|Brew_Month|\n",
            "+---------------+-------------------+---------------+----------+\n",
            "|     Whitefield|2020-01-01 00:00:19|           4666|   2020-01|\n",
            "|     Whitefield|2020-01-01 00:00:31|            832|   2020-01|\n",
            "|    Malleswaram|2020-01-01 00:00:40|           2115|   2020-01|\n",
            "|    Rajajinagar|2020-01-01 00:01:37|           3173|   2020-01|\n",
            "|   Marathahalli|2020-01-01 00:01:43|           4449|   2020-01|\n",
            "|     Whitefield|2020-01-01 00:01:48|           3752|   2020-01|\n",
            "|Electronic City|2020-01-01 00:01:49|            593|   2020-01|\n",
            "|    Indiranagar|2020-01-01 00:01:51|           4949|   2020-01|\n",
            "|Electronic City|2020-01-01 00:02:16|           2451|   2020-01|\n",
            "|Electronic City|2020-01-01 00:02:32|           4305|   2020-01|\n",
            "|Electronic City|2020-01-01 00:02:36|           4959|   2020-01|\n",
            "|Electronic City|2020-01-01 00:02:55|           4894|   2020-01|\n",
            "|    Rajajinagar|2020-01-01 00:03:04|           1479|   2020-01|\n",
            "|   Marathahalli|2020-01-01 00:03:09|           4486|   2020-01|\n",
            "|    Koramangala|2020-01-01 00:03:12|           1475|   2020-01|\n",
            "|      Yelahanka|2020-01-01 00:03:17|           4484|   2020-01|\n",
            "|   Marathahalli|2020-01-01 00:03:22|           3377|   2020-01|\n",
            "|    Malleswaram|2020-01-01 00:03:26|           1459|   2020-01|\n",
            "|    Rajajinagar|2020-01-01 00:03:31|           3809|   2020-01|\n",
            "|    Malleswaram|2020-01-01 00:03:33|           2787|   2020-01|\n",
            "+---------------+-------------------+---------------+----------+\n",
            "only showing top 20 rows\n",
            "\n"
          ]
        }
      ]
    },
    {
      "cell_type": "code",
      "source": [
        "df.select(['Location','Brew_Date','Volume_Produced'])\\\n",
        ".withColumn('Brew_Month', F.date_format('Brew_Date', \"yyyy-MM\"))\\\n",
        ".groupBy('Brew_Month')\\\n",
        ".pivot('Location')\\\n",
        ".sum('Volume_Produced')\\\n",
        ".sort('Brew_Month')\\\n",
        ".show()"
      ],
      "metadata": {
        "colab": {
          "base_uri": "https://localhost:8080/"
        },
        "id": "pk-RWL0TyITr",
        "outputId": "d37172e6-9e71-4241-a948-5cf028ff328e"
      },
      "execution_count": null,
      "outputs": [
        {
          "output_type": "stream",
          "name": "stdout",
          "text": [
            "+----------+---------------+----------+-----------+---------+-----------+-----------+------------+-----------+----------+---------+\n",
            "|Brew_Month|Electronic City|HSR Layout|Indiranagar|Jayanagar|Koramangala|Malleswaram|Marathahalli|Rajajinagar|Whitefield|Yelahanka|\n",
            "+----------+---------------+----------+-----------+---------+-----------+-----------+------------+-----------+----------+---------+\n",
            "|   2020-01|       58157063|  57791779|   58476841| 59240364|   58033941|   58244295|    57765712|   58559281|  59268304| 58472454|\n",
            "|   2020-02|       54036768|  53959900|   54539968| 54237101|   54791788|   54492559|    54298376|   54987598|  54299030| 55047953|\n",
            "|   2020-03|       57938008|  58488866|   58617914| 58510168|   57998335|   58202733|    58370414|   58290870|  58434380| 58100744|\n",
            "|   2020-04|       57240763|  56297919|   56936309| 57233419|   56560284|   56095060|    56291880|   55730412|  56683627| 56855324|\n",
            "|   2020-05|       58597015|  58368536|   58236599| 58929325|   58173249|   58776081|    58714912|   57945172|  57947880| 58443165|\n",
            "|   2020-06|       56571820|  56780260|   56490538| 55963583|   56264056|   56105760|    56368301|   56923395|  56059529| 55933464|\n",
            "|   2020-07|       58263760|  58804026|   58551266| 58059418|   57859557|   58455399|    58482060|   58722143|  58072107| 59405696|\n",
            "|   2020-08|       58105774|  57576027|   57319879| 57478437|   58516329|   58490036|    57783692|   59139351|  57751692| 57724629|\n",
            "|   2020-09|       56178682|  57149664|   56690653| 56659040|   56373396|   56473383|    56832593|   56559896|  55346499| 56807484|\n",
            "|   2020-10|       58097006|  57759969|   58520097| 57611011|   58191739|   58182231|    58942228|   57448087|  58871561| 57875923|\n",
            "|   2020-11|       56414176|  56400515|   56318233| 55989321|   56813923|   57187241|    56942341|   56330088|  56817745| 56044299|\n",
            "|   2020-12|       58528939|  58979973|   58365864| 58562574|   58240198|   58593420|    57752970|   58143476|  58797955| 58967124|\n",
            "|   2021-01|       58713768|  57739986|   58120463| 58127737|   57675399|   57735358|    58530951|   58494728|  58949085| 57848316|\n",
            "|   2021-02|       52431694|  52846493|   52745039| 53246001|   52457484|   52609430|    52763334|   51745266|  52958573| 52626925|\n",
            "|   2021-03|       57805836|  58150689|   58859911| 58604727|   58877588|   57778856|    58193655|   58501503|  58548732| 58120181|\n",
            "|   2021-04|       57281060|  56753395|   57051425| 57070229|   56268515|   57140128|    56427707|   56158575|  56399248| 55709837|\n",
            "|   2021-05|       58301581|  58339703|   57802009| 58248169|   59226266|   58525651|    58298252|   58087562|  58733261| 58021142|\n",
            "|   2021-06|       56162085|  56030769|   56664417| 57019678|   56544460|   56425000|    56480470|   56545596|  57039994| 56224791|\n",
            "|   2021-07|       58405578|  59056624|   58812772| 58086053|   59263274|   58164916|    58487547|   58277384|  58275663| 58616898|\n",
            "|   2021-08|       58081985|  56992568|   58853875| 58082145|   59232062|   58144681|    58615396|   58127212|  58407097| 58511815|\n",
            "+----------+---------------+----------+-----------+---------+-----------+-----------+------------+-----------+----------+---------+\n",
            "only showing top 20 rows\n",
            "\n"
          ]
        }
      ]
    },
    {
      "cell_type": "code",
      "source": [
        "df.groupBy('Beer_Style')\\\n",
        ".sum(\"Total_Sales\")\\\n",
        ".withColumnRenamed(\"sum(Total_Sales)\", \"Total_Sales_Sum\")\\\n",
        ".sort(\"Beer_Style\").show()"
      ],
      "metadata": {
        "colab": {
          "base_uri": "https://localhost:8080/"
        },
        "id": "BOfl41X-WO10",
        "outputId": "5369bdc9-6816-48da-858d-3cca2372f9b0"
      },
      "execution_count": null,
      "outputs": [
        {
          "output_type": "stream",
          "name": "stdout",
          "text": [
            "+----------+--------------------+\n",
            "|Beer_Style|     Total_Sales_Sum|\n",
            "+----------+--------------------+\n",
            "|       Ale|1.314638271068101...|\n",
            "|       IPA|1.311356920476101...|\n",
            "|     Lager|1.311766538654772...|\n",
            "|   Pilsner|1.312235003270339...|\n",
            "|    Porter|1.313051202605402...|\n",
            "|      Sour|1.312554186649535...|\n",
            "|     Stout|1.311502583634514E10|\n",
            "|Wheat Beer|1.310680637581503...|\n",
            "+----------+--------------------+\n",
            "\n"
          ]
        }
      ]
    },
    {
      "cell_type": "code",
      "source": [
        "df.groupBy('Beer_Style')\\\n",
        ".sum(\"Total_Sales\")\\\n",
        ".withColumnRenamed(\"sum(Total_Sales)\", \"Total_Sales_Sum\")\\\n",
        ".sort(\"Beer_Style\").collect()[0][1]"
      ],
      "metadata": {
        "colab": {
          "base_uri": "https://localhost:8080/"
        },
        "id": "mnbV8lFpXAsn",
        "outputId": "a1bd57cf-9e7c-4941-938f-b2098d2dec94"
      },
      "execution_count": null,
      "outputs": [
        {
          "output_type": "execute_result",
          "data": {
            "text/plain": [
              "13146382710.681017"
            ]
          },
          "metadata": {},
          "execution_count": 11
        }
      ]
    },
    {
      "cell_type": "code",
      "source": [
        "df.groupBy(\"Beer_Style\",\"Location\")\\\n",
        ".agg(F.round(F.avg(\"Loss_During_Brewing\"),3),\\\n",
        "     F.round(F.avg(\"Loss_During_Fermentation\"),3),\\\n",
        "     F.round(F.avg(\"Loss_During_Bottling_Kegging\"),3))\\\n",
        ".sort(\"Beer_Style\").show()"
      ],
      "metadata": {
        "colab": {
          "base_uri": "https://localhost:8080/"
        },
        "id": "d8VaS_uP21qB",
        "outputId": "fa0a1b42-91fc-407b-ac35-32dac40477a2"
      },
      "execution_count": null,
      "outputs": [
        {
          "output_type": "stream",
          "name": "stdout",
          "text": [
            "+----------+---------------+----------------------------------+---------------------------------------+-------------------------------------------+\n",
            "|Beer_Style|       Location|round(avg(Loss_During_Brewing), 3)|round(avg(Loss_During_Fermentation), 3)|round(avg(Loss_During_Bottling_Kegging), 3)|\n",
            "+----------+---------------+----------------------------------+---------------------------------------+-------------------------------------------+\n",
            "|       Ale|   Marathahalli|                             2.991|                                  2.999|                                      3.005|\n",
            "|       Ale|Electronic City|                             3.005|                                    3.0|                                      2.996|\n",
            "|       Ale|    Rajajinagar|                             2.999|                                  2.999|                                      3.001|\n",
            "|       Ale|      Jayanagar|                             3.005|                                    3.0|                                      2.997|\n",
            "|       Ale|     Whitefield|                             3.003|                                  3.002|                                      3.001|\n",
            "|       Ale|    Malleswaram|                             3.001|                                  3.005|                                      2.997|\n",
            "|       Ale|    Indiranagar|                             3.001|                                  3.003|                                      2.997|\n",
            "|       Ale|    Koramangala|                               3.0|                                    3.0|                                      3.001|\n",
            "|       Ale|      Yelahanka|                             2.998|                                  2.994|                                      3.004|\n",
            "|       Ale|     HSR Layout|                             2.999|                                  2.998|                                      3.004|\n",
            "|       IPA|     HSR Layout|                             2.993|                                  3.002|                                      2.993|\n",
            "|       IPA|      Jayanagar|                             3.001|                                  2.993|                                      3.003|\n",
            "|       IPA|      Yelahanka|                             2.996|                                  2.998|                                      3.003|\n",
            "|       IPA|   Marathahalli|                             2.997|                                  3.005|                                      3.002|\n",
            "|       IPA|Electronic City|                             3.003|                                  2.997|                                      3.003|\n",
            "|       IPA|    Rajajinagar|                             3.002|                                  2.999|                                        3.0|\n",
            "|       IPA|    Koramangala|                             2.999|                                  2.999|                                        3.0|\n",
            "|       IPA|     Whitefield|                             2.996|                                    3.0|                                      3.001|\n",
            "|       IPA|    Indiranagar|                               3.0|                                  2.995|                                      3.006|\n",
            "|       IPA|    Malleswaram|                             3.001|                                  3.005|                                      3.004|\n",
            "+----------+---------------+----------------------------------+---------------------------------------+-------------------------------------------+\n",
            "only showing top 20 rows\n",
            "\n"
          ]
        }
      ]
    },
    {
      "cell_type": "code",
      "source": [
        "df.groupBy(\"Beer_Style\")\\\n",
        ".agg(F.round(F.avg(\"Alcohol_Content\"),3),\\\n",
        "     F.round(F.avg(\"Bitterness\"),3),\\\n",
        "     F.round(F.avg(\"Color\"),3))\\\n",
        ".sort(\"Beer_Style\").show()"
      ],
      "metadata": {
        "colab": {
          "base_uri": "https://localhost:8080/"
        },
        "id": "S7gI3yYlSJ6g",
        "outputId": "0bed40ab-1e33-41ee-e192-d36fd166bcf9"
      },
      "execution_count": 6,
      "outputs": [
        {
          "output_type": "stream",
          "name": "stdout",
          "text": [
            "+----------+------------------------------+-------------------------+--------------------+\n",
            "|Beer_Style|round(avg(Alcohol_Content), 3)|round(avg(Bitterness), 3)|round(avg(Color), 3)|\n",
            "+----------+------------------------------+-------------------------+--------------------+\n",
            "|       Ale|                         5.249|                   39.498|              11.999|\n",
            "|       IPA|                          5.25|                   39.495|                12.0|\n",
            "|     Lager|                          5.25|                   39.491|              12.001|\n",
            "|   Pilsner|                          5.25|                   39.499|              11.995|\n",
            "|    Porter|                          5.25|                   39.509|              11.995|\n",
            "|      Sour|                         5.249|                   39.487|              12.005|\n",
            "|     Stout|                          5.25|                   39.491|              12.003|\n",
            "|Wheat Beer|                          5.25|                     39.5|              11.998|\n",
            "+----------+------------------------------+-------------------------+--------------------+\n",
            "\n"
          ]
        }
      ]
    }
  ]
}