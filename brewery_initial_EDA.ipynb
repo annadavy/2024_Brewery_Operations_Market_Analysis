{
  "nbformat": 4,
  "nbformat_minor": 0,
  "metadata": {
    "colab": {
      "provenance": [],
      "authorship_tag": "ABX9TyNeoe8EN6cbF9kNZFZpdn58"
    },
    "kernelspec": {
      "name": "python3",
      "display_name": "Python 3"
    },
    "language_info": {
      "name": "python"
    }
  },
  "cells": [
    {
      "cell_type": "code",
      "execution_count": 1,
      "metadata": {
        "colab": {
          "base_uri": "https://localhost:8080/"
        },
        "id": "uDwcjMZpOkFF",
        "outputId": "4531fd8f-1825-408c-edb7-6e7db7426889"
      },
      "outputs": [
        {
          "output_type": "stream",
          "name": "stdout",
          "text": [
            "Collecting pyspark\n",
            "  Downloading pyspark-3.5.0.tar.gz (316.9 MB)\n",
            "\u001b[2K     \u001b[90m━━━━━━━━━━━━━━━━━━━━━━━━━━━━━━━━━━━━━━━━\u001b[0m \u001b[32m316.9/316.9 MB\u001b[0m \u001b[31m3.5 MB/s\u001b[0m eta \u001b[36m0:00:00\u001b[0m\n",
            "\u001b[?25h  Preparing metadata (setup.py) ... \u001b[?25l\u001b[?25hdone\n",
            "Requirement already satisfied: py4j==0.10.9.7 in /usr/local/lib/python3.10/dist-packages (from pyspark) (0.10.9.7)\n",
            "Building wheels for collected packages: pyspark\n",
            "  Building wheel for pyspark (setup.py) ... \u001b[?25l\u001b[?25hdone\n",
            "  Created wheel for pyspark: filename=pyspark-3.5.0-py2.py3-none-any.whl size=317425345 sha256=3871f3d5a21230dc617e443e2b48f7ce52d3ff5e752438ec9dc2c0adebc1f506\n",
            "  Stored in directory: /root/.cache/pip/wheels/41/4e/10/c2cf2467f71c678cfc8a6b9ac9241e5e44a01940da8fbb17fc\n",
            "Successfully built pyspark\n",
            "Installing collected packages: pyspark\n",
            "Successfully installed pyspark-3.5.0\n"
          ]
        }
      ],
      "source": [
        "!pip install pyspark"
      ]
    },
    {
      "cell_type": "code",
      "source": [
        "from pyspark.sql import SparkSession\n",
        "import os\n",
        "from google.colab import drive\n",
        "from pyspark.sql import functions as F\n",
        "#from pyspark.sql.functions import explode, col, concat, lit,size, desc, asc, asc_nulls_last, substring,udf,year"
      ],
      "metadata": {
        "id": "p9g6oF79PEK4"
      },
      "execution_count": 2,
      "outputs": []
    },
    {
      "cell_type": "code",
      "source": [
        "from pyspark.sql import SparkSession\n",
        "spark = SparkSession.builder.master(\"local[*]\").getOrCreate()"
      ],
      "metadata": {
        "id": "SQ19TJLaO2Os"
      },
      "execution_count": 3,
      "outputs": []
    },
    {
      "cell_type": "code",
      "source": [
        "drive.mount('/content/gdrive')"
      ],
      "metadata": {
        "colab": {
          "base_uri": "https://localhost:8080/"
        },
        "id": "4vJSIrwzQ42J",
        "outputId": "fd235629-5f59-4b4f-e2ac-0023fdbe3f04"
      },
      "execution_count": 4,
      "outputs": [
        {
          "output_type": "stream",
          "name": "stdout",
          "text": [
            "Mounted at /content/gdrive\n"
          ]
        }
      ]
    },
    {
      "cell_type": "code",
      "source": [
        "df=spark.read.csv('gdrive/My Drive/Colab Notebooks/brewery_data_complete_extended.csv',inferSchema=True,header=True)"
      ],
      "metadata": {
        "id": "Kqi-St8WPAIA"
      },
      "execution_count": 5,
      "outputs": []
    },
    {
      "cell_type": "code",
      "source": [
        "df.show(n=5, truncate=False, vertical=True)"
      ],
      "metadata": {
        "colab": {
          "base_uri": "https://localhost:8080/"
        },
        "id": "yGAmVrHm_ZRh",
        "outputId": "3376772e-4c29-414b-bde7-d56db734e5a7"
      },
      "execution_count": 6,
      "outputs": [
        {
          "output_type": "stream",
          "name": "stdout",
          "text": [
            "-RECORD 0-------------------------------------------\n",
            " Batch_ID                     | 7870796             \n",
            " Brew_Date                    | 2020-01-01 00:00:19 \n",
            " Beer_Style                   | Wheat Beer          \n",
            " SKU                          | Kegs                \n",
            " Location                     | Whitefield          \n",
            " Fermentation_Time            | 16                  \n",
            " Temperature                  | 24.204250857069873  \n",
            " pH_Level                     | 5.2898454476095615  \n",
            " Gravity                      | 1.0395041267301979  \n",
            " Alcohol_Content              | 5.370842159553436   \n",
            " Bitterness                   | 20                  \n",
            " Color                        | 5                   \n",
            " Ingredient_Ratio             | 1:0.32:0.16         \n",
            " Volume_Produced              | 4666                \n",
            " Total_Sales                  | 2664.7593448382822  \n",
            " Quality_Score                | 8.57701633109399    \n",
            " Brewhouse_Efficiency         | 89.19588216376087   \n",
            " Loss_During_Brewing          | 4.1049876591878345  \n",
            " Loss_During_Fermentation     | 3.2354851724654683  \n",
            " Loss_During_Bottling_Kegging | 4.663204448186049   \n",
            "-RECORD 1-------------------------------------------\n",
            " Batch_ID                     | 9810411             \n",
            " Brew_Date                    | 2020-01-01 00:00:31 \n",
            " Beer_Style                   | Sour                \n",
            " SKU                          | Kegs                \n",
            " Location                     | Whitefield          \n",
            " Fermentation_Time            | 13                  \n",
            " Temperature                  | 18.086762947259544  \n",
            " pH_Level                     | 5.275643382756193   \n",
            " Gravity                      | 1.0598189516987164  \n",
            " Alcohol_Content              | 5.096053082797625   \n",
            " Bitterness                   | 36                  \n",
            " Color                        | 14                  \n",
            " Ingredient_Ratio             | 1:0.39:0.24         \n",
            " Volume_Produced              | 832                 \n",
            " Total_Sales                  | 9758.801062471319   \n",
            " Quality_Score                | 7.420540752553908   \n",
            " Brewhouse_Efficiency         | 72.4809153900275    \n",
            " Loss_During_Brewing          | 2.6765280953921122  \n",
            " Loss_During_Fermentation     | 4.2461292104108574  \n",
            " Loss_During_Bottling_Kegging | 2.04435836917023    \n",
            "-RECORD 2-------------------------------------------\n",
            " Batch_ID                     | 2623342             \n",
            " Brew_Date                    | 2020-01-01 00:00:40 \n",
            " Beer_Style                   | Wheat Beer          \n",
            " SKU                          | Kegs                \n",
            " Location                     | Malleswaram         \n",
            " Fermentation_Time            | 12                  \n",
            " Temperature                  | 15.539332669116469  \n",
            " pH_Level                     | 4.7780156232459765  \n",
            " Gravity                      | 1.0374757095487201  \n",
            " Alcohol_Content              | 4.824737120959184   \n",
            " Bitterness                   | 30                  \n",
            " Color                        | 10                  \n",
            " Ingredient_Ratio             | 1:0.35:0.16         \n",
            " Volume_Produced              | 2115                \n",
            " Total_Sales                  | 11721.087016274963  \n",
            " Quality_Score                | 8.451364886803127   \n",
            " Brewhouse_Efficiency         | 86.32214396020584   \n",
            " Loss_During_Brewing          | 3.299893625514981   \n",
            " Loss_During_Fermentation     | 3.109440467362847   \n",
            " Loss_During_Bottling_Kegging | 3.0338798378762806  \n",
            "-RECORD 3-------------------------------------------\n",
            " Batch_ID                     | 8114651             \n",
            " Brew_Date                    | 2020-01-01 00:01:37 \n",
            " Beer_Style                   | Ale                 \n",
            " SKU                          | Kegs                \n",
            " Location                     | Rajajinagar         \n",
            " Fermentation_Time            | 17                  \n",
            " Temperature                  | 16.41848910394318   \n",
            " pH_Level                     | 5.345260585546188   \n",
            " Gravity                      | 1.0524314251694946  \n",
            " Alcohol_Content              | 5.509243080797997   \n",
            " Bitterness                   | 48                  \n",
            " Color                        | 18                  \n",
            " Ingredient_Ratio             | 1:0.35:0.15         \n",
            " Volume_Produced              | 3173                \n",
            " Total_Sales                  | 12050.177463190277  \n",
            " Quality_Score                | 9.671859404043175   \n",
            " Brewhouse_Efficiency         | 83.09494037181545   \n",
            " Loss_During_Brewing          | 2.136055116262562   \n",
            " Loss_During_Fermentation     | 4.634254174098425   \n",
            " Loss_During_Bottling_Kegging | 1.4898890677148424  \n",
            "-RECORD 4-------------------------------------------\n",
            " Batch_ID                     | 4579587             \n",
            " Brew_Date                    | 2020-01-01 00:01:43 \n",
            " Beer_Style                   | Stout               \n",
            " SKU                          | Cans                \n",
            " Location                     | Marathahalli        \n",
            " Fermentation_Time            | 18                  \n",
            " Temperature                  | 19.144907654338517  \n",
            " pH_Level                     | 4.86185374113861    \n",
            " Gravity                      | 1.0542961149482333  \n",
            " Alcohol_Content              | 5.133624684263243   \n",
            " Bitterness                   | 57                  \n",
            " Color                        | 13                  \n",
            " Ingredient_Ratio             | 1:0.46:0.11         \n",
            " Volume_Produced              | 4449                \n",
            " Total_Sales                  | 5515.0774647529615  \n",
            " Quality_Score                | 7.895333676172065   \n",
            " Brewhouse_Efficiency         | 88.62583302052388   \n",
            " Loss_During_Brewing          | 4.491723843594972   \n",
            " Loss_During_Fermentation     | 2.1833886016455497  \n",
            " Loss_During_Bottling_Kegging | 2.9906302188791485  \n",
            "only showing top 5 rows\n",
            "\n"
          ]
        }
      ]
    },
    {
      "cell_type": "code",
      "source": [
        "df.printSchema()"
      ],
      "metadata": {
        "colab": {
          "base_uri": "https://localhost:8080/"
        },
        "id": "Mb0-iIhOTzyG",
        "outputId": "3fe0e2a3-4c38-44fd-a77a-7e0c0a416fd2"
      },
      "execution_count": 7,
      "outputs": [
        {
          "output_type": "stream",
          "name": "stdout",
          "text": [
            "root\n",
            " |-- Batch_ID: integer (nullable = true)\n",
            " |-- Brew_Date: timestamp (nullable = true)\n",
            " |-- Beer_Style: string (nullable = true)\n",
            " |-- SKU: string (nullable = true)\n",
            " |-- Location: string (nullable = true)\n",
            " |-- Fermentation_Time: integer (nullable = true)\n",
            " |-- Temperature: double (nullable = true)\n",
            " |-- pH_Level: double (nullable = true)\n",
            " |-- Gravity: double (nullable = true)\n",
            " |-- Alcohol_Content: double (nullable = true)\n",
            " |-- Bitterness: integer (nullable = true)\n",
            " |-- Color: integer (nullable = true)\n",
            " |-- Ingredient_Ratio: string (nullable = true)\n",
            " |-- Volume_Produced: integer (nullable = true)\n",
            " |-- Total_Sales: double (nullable = true)\n",
            " |-- Quality_Score: double (nullable = true)\n",
            " |-- Brewhouse_Efficiency: double (nullable = true)\n",
            " |-- Loss_During_Brewing: double (nullable = true)\n",
            " |-- Loss_During_Fermentation: double (nullable = true)\n",
            " |-- Loss_During_Bottling_Kegging: double (nullable = true)\n",
            "\n"
          ]
        }
      ]
    }
  ]
}