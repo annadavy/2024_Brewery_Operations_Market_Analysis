{
  "nbformat": 4,
  "nbformat_minor": 0,
  "metadata": {
    "colab": {
      "provenance": [],
      "authorship_tag": "ABX9TyN5aND3MYXRDRFLvz8yqgaV"
    },
    "kernelspec": {
      "name": "python3",
      "display_name": "Python 3"
    },
    "language_info": {
      "name": "python"
    }
  },
  "cells": [
    {
      "cell_type": "code",
      "execution_count": null,
      "metadata": {
        "colab": {
          "base_uri": "https://localhost:8080/"
        },
        "id": "uDwcjMZpOkFF",
        "outputId": "70af3c6e-4096-44b7-8e42-c39c9a7aa7b7"
      },
      "outputs": [
        {
          "output_type": "stream",
          "name": "stdout",
          "text": [
            "Collecting pyspark\n",
            "  Downloading pyspark-3.5.0.tar.gz (316.9 MB)\n",
            "\u001b[2K     \u001b[90m━━━━━━━━━━━━━━━━━━━━━━━━━━━━━━━━━━━━━━━━\u001b[0m \u001b[32m316.9/316.9 MB\u001b[0m \u001b[31m2.4 MB/s\u001b[0m eta \u001b[36m0:00:00\u001b[0m\n",
            "\u001b[?25h  Preparing metadata (setup.py) ... \u001b[?25l\u001b[?25hdone\n",
            "Requirement already satisfied: py4j==0.10.9.7 in /usr/local/lib/python3.10/dist-packages (from pyspark) (0.10.9.7)\n",
            "Building wheels for collected packages: pyspark\n",
            "  Building wheel for pyspark (setup.py) ... \u001b[?25l\u001b[?25hdone\n",
            "  Created wheel for pyspark: filename=pyspark-3.5.0-py2.py3-none-any.whl size=317425345 sha256=17dd152295770b6ccf4d824635ec32be2f81284c39f198798a9200f2c7bc483c\n",
            "  Stored in directory: /root/.cache/pip/wheels/41/4e/10/c2cf2467f71c678cfc8a6b9ac9241e5e44a01940da8fbb17fc\n",
            "Successfully built pyspark\n",
            "Installing collected packages: pyspark\n",
            "Successfully installed pyspark-3.5.0\n"
          ]
        }
      ],
      "source": [
        "!pip install pyspark"
      ]
    },
    {
      "cell_type": "code",
      "source": [
        "from pyspark.sql import SparkSession\n",
        "import os\n",
        "from google.colab import drive\n",
        "from pyspark.sql import functions as F\n",
        "#from pyspark.sql.functions import explode, col, concat, lit,size, desc, asc, asc_nulls_last, substring,udf,year"
      ],
      "metadata": {
        "id": "p9g6oF79PEK4"
      },
      "execution_count": 24,
      "outputs": []
    },
    {
      "cell_type": "code",
      "source": [
        "from pyspark.sql import SparkSession\n",
        "spark = SparkSession.builder.master(\"local[*]\").getOrCreate()"
      ],
      "metadata": {
        "id": "SQ19TJLaO2Os"
      },
      "execution_count": 25,
      "outputs": []
    },
    {
      "cell_type": "code",
      "source": [
        "drive.mount('/content/gdrive')"
      ],
      "metadata": {
        "colab": {
          "base_uri": "https://localhost:8080/"
        },
        "id": "4vJSIrwzQ42J",
        "outputId": "1cdee9dc-8a47-45cf-c970-7162692953c2"
      },
      "execution_count": null,
      "outputs": [
        {
          "output_type": "stream",
          "name": "stdout",
          "text": [
            "Mounted at /content/gdrive\n"
          ]
        }
      ]
    },
    {
      "cell_type": "code",
      "source": [
        "df=spark.read.csv('gdrive/My Drive/Colab Notebooks/brewery_data_complete_extended.csv',inferSchema=True,header=True)"
      ],
      "metadata": {
        "id": "Kqi-St8WPAIA"
      },
      "execution_count": 32,
      "outputs": []
    },
    {
      "cell_type": "code",
      "source": [
        "df.select(['Batch_ID',\n",
        " 'Brew_Date',\n",
        " 'Beer_Style',\n",
        " 'SKU',\n",
        " 'Location',\n",
        " 'Fermentation_Time',\n",
        " 'Temperature',\n",
        " 'pH_Level',\n",
        " 'Gravity',\n",
        " 'Alcohol_Content',\n",
        " 'Bitterness',\n",
        " 'Color']).show()"
      ],
      "metadata": {
        "colab": {
          "base_uri": "https://localhost:8080/"
        },
        "id": "-8kNppPFRGN_",
        "outputId": "1af769b1-e02c-4646-801c-0ce537e19c18"
      },
      "execution_count": 37,
      "outputs": [
        {
          "output_type": "stream",
          "name": "stdout",
          "text": [
            "+--------+-------------------+----------+-------+---------------+-----------------+------------------+------------------+------------------+-----------------+----------+-----+\n",
            "|Batch_ID|          Brew_Date|Beer_Style|    SKU|       Location|Fermentation_Time|       Temperature|          pH_Level|           Gravity|  Alcohol_Content|Bitterness|Color|\n",
            "+--------+-------------------+----------+-------+---------------+-----------------+------------------+------------------+------------------+-----------------+----------+-----+\n",
            "| 7870796|2020-01-01 00:00:19|Wheat Beer|   Kegs|     Whitefield|               16|24.204250857069873|5.2898454476095615|1.0395041267301979|5.370842159553436|        20|    5|\n",
            "| 9810411|2020-01-01 00:00:31|      Sour|   Kegs|     Whitefield|               13|18.086762947259544| 5.275643382756193|1.0598189516987164|5.096053082797625|        36|   14|\n",
            "| 2623342|2020-01-01 00:00:40|Wheat Beer|   Kegs|    Malleswaram|               12|15.539332669116469|4.7780156232459765|1.0374757095487201|4.824737120959184|        30|   10|\n",
            "| 8114651|2020-01-01 00:01:37|       Ale|   Kegs|    Rajajinagar|               17| 16.41848910394318| 5.345260585546188|1.0524314251694946|5.509243080797997|        48|   18|\n",
            "| 4579587|2020-01-01 00:01:43|     Stout|   Cans|   Marathahalli|               18|19.144907654338517|  4.86185374113861|1.0542961149482333|5.133624684263243|        57|   13|\n",
            "| 8715759|2020-01-01 00:01:48|       Ale|   Kegs|     Whitefield|               10|17.424614393375766| 5.291786621908058| 1.064662042682204|4.859171021614226|        45|    9|\n",
            "| 6441292|2020-01-01 00:01:49|     Lager|  Pints|Electronic City|               16|15.629810875902074|5.3328812410204325|1.0466885050091976|4.710402522822796|        44|    8|\n",
            "| 8843420|2020-01-01 00:01:51|Wheat Beer|   Cans|    Indiranagar|               13|21.605469689190052| 4.507213419450749|1.0415809900303394| 4.83702482975061|        38|    9|\n",
            "| 5713096|2020-01-01 00:02:16|     Stout|Bottles|Electronic City|               18|20.183530075814367| 5.224481542948347|1.0764413828584096|5.133596661986578|        25|   15|\n",
            "| 8178852|2020-01-01 00:02:32|     Stout|   Cans|Electronic City|               11|17.237974924919577| 4.911261716318917|1.0478298509908957|5.709899253603638|        48|   10|\n",
            "| 5607233|2020-01-01 00:02:36|   Pilsner|   Cans|Electronic City|               14| 15.70400745122817| 4.809827440806769|1.0503845798714408|5.460061910956435|        26|   15|\n",
            "| 3699698|2020-01-01 00:02:55|       IPA|  Pints|Electronic City|               19|17.597701886470652| 5.312024579912181|1.0330450180092225|4.661066385691683|        47|    6|\n",
            "| 4437940|2020-01-01 00:03:04|      Sour|   Cans|    Rajajinagar|               14|15.415524753322972| 5.422808722785356| 1.046025948108783|4.516939869630938|        34|   16|\n",
            "| 6167789|2020-01-01 00:03:09|       Ale|  Pints|   Marathahalli|               17| 20.37375557905417| 4.768508394883426|1.0342821835465446|5.319366431771322|        32|    6|\n",
            "| 9487317|2020-01-01 00:03:12|    Porter|   Kegs|    Koramangala|               17|24.678870169235424| 4.876144319732823|1.0611629801967593| 4.97381389280548|        34|   15|\n",
            "| 6902208|2020-01-01 00:03:17|   Pilsner|   Cans|      Yelahanka|               10| 16.24653222310524| 5.241133152001924|1.0382992499477062|4.535179745113896|        37|   17|\n",
            "| 1816588|2020-01-01 00:03:22|      Sour|Bottles|   Marathahalli|               11|22.903972245938505| 5.473563790227288|1.0373730025224546| 5.12916808476057|        44|   10|\n",
            "| 4910947|2020-01-01 00:03:26|    Porter|   Kegs|    Malleswaram|               15| 24.88502400214049|  4.68579566157026|1.0660628711841977|5.575448433172943|        36|    6|\n",
            "| 3420320|2020-01-01 00:03:31|   Pilsner|  Pints|    Rajajinagar|               15|17.785713321899884| 5.318024913782187|1.0687167841553329|5.406625556398892|        23|    5|\n",
            "| 2821972|2020-01-01 00:03:33|     Stout|Bottles|    Malleswaram|               16| 18.53433164072429| 4.771957308753228| 1.038209083799137|5.402760414393702|        40|   13|\n",
            "+--------+-------------------+----------+-------+---------------+-----------------+------------------+------------------+------------------+-----------------+----------+-----+\n",
            "only showing top 20 rows\n",
            "\n"
          ]
        }
      ]
    },
    {
      "cell_type": "code",
      "source": [
        "df.printSchema()"
      ],
      "metadata": {
        "colab": {
          "base_uri": "https://localhost:8080/"
        },
        "id": "Mb0-iIhOTzyG",
        "outputId": "99927c47-00e7-4344-b38a-8ac13fa38a9f"
      },
      "execution_count": 34,
      "outputs": [
        {
          "output_type": "stream",
          "name": "stdout",
          "text": [
            "root\n",
            " |-- Batch_ID: integer (nullable = true)\n",
            " |-- Brew_Date: timestamp (nullable = true)\n",
            " |-- Beer_Style: string (nullable = true)\n",
            " |-- SKU: string (nullable = true)\n",
            " |-- Location: string (nullable = true)\n",
            " |-- Fermentation_Time: integer (nullable = true)\n",
            " |-- Temperature: double (nullable = true)\n",
            " |-- pH_Level: double (nullable = true)\n",
            " |-- Gravity: double (nullable = true)\n",
            " |-- Alcohol_Content: double (nullable = true)\n",
            " |-- Bitterness: integer (nullable = true)\n",
            " |-- Color: integer (nullable = true)\n",
            " |-- Ingredient_Ratio: string (nullable = true)\n",
            " |-- Volume_Produced: integer (nullable = true)\n",
            " |-- Total_Sales: double (nullable = true)\n",
            " |-- Quality_Score: double (nullable = true)\n",
            " |-- Brewhouse_Efficiency: double (nullable = true)\n",
            " |-- Loss_During_Brewing: double (nullable = true)\n",
            " |-- Loss_During_Fermentation: double (nullable = true)\n",
            " |-- Loss_During_Bottling_Kegging: double (nullable = true)\n",
            "\n"
          ]
        }
      ]
    },
    {
      "cell_type": "code",
      "source": [
        "df.columns"
      ],
      "metadata": {
        "colab": {
          "base_uri": "https://localhost:8080/"
        },
        "id": "toR5nupr99Pr",
        "outputId": "b27de733-80b7-470f-904c-62d5dbac1ed0"
      },
      "execution_count": 36,
      "outputs": [
        {
          "output_type": "execute_result",
          "data": {
            "text/plain": [
              "['Batch_ID',\n",
              " 'Brew_Date',\n",
              " 'Beer_Style',\n",
              " 'SKU',\n",
              " 'Location',\n",
              " 'Fermentation_Time',\n",
              " 'Temperature',\n",
              " 'pH_Level',\n",
              " 'Gravity',\n",
              " 'Alcohol_Content',\n",
              " 'Bitterness',\n",
              " 'Color',\n",
              " 'Ingredient_Ratio',\n",
              " 'Volume_Produced',\n",
              " 'Total_Sales',\n",
              " 'Quality_Score',\n",
              " 'Brewhouse_Efficiency',\n",
              " 'Loss_During_Brewing',\n",
              " 'Loss_During_Fermentation',\n",
              " 'Loss_During_Bottling_Kegging']"
            ]
          },
          "metadata": {},
          "execution_count": 36
        }
      ]
    }
  ]
}